{
 "cells": [
  {
   "cell_type": "markdown",
   "id": "greenhouse-spectrum",
   "metadata": {},
   "source": [
    "## Classification using Support Vector Machine (SVM) - Supervised Learning "
   ]
  },
  {
   "cell_type": "markdown",
   "id": "occupational-facial",
   "metadata": {},
   "source": [
    "### Import libraries and load the dataset"
   ]
  },
  {
   "cell_type": "code",
   "execution_count": 1,
   "id": "indonesian-recommendation",
   "metadata": {},
   "outputs": [],
   "source": [
    "import numpy as np\n",
    "import matplotlib.pyplot as plt\n",
    "import pandas as pd"
   ]
  },
  {
   "cell_type": "code",
   "execution_count": 2,
   "id": "vital-bandwidth",
   "metadata": {},
   "outputs": [],
   "source": [
    "data = pd.read_csv(\"data.csv\") "
   ]
  },
  {
   "cell_type": "code",
   "execution_count": 3,
   "id": "governing-length",
   "metadata": {},
   "outputs": [
    {
     "data": {
      "text/html": [
       "<div>\n",
       "<style scoped>\n",
       "    .dataframe tbody tr th:only-of-type {\n",
       "        vertical-align: middle;\n",
       "    }\n",
       "\n",
       "    .dataframe tbody tr th {\n",
       "        vertical-align: top;\n",
       "    }\n",
       "\n",
       "    .dataframe thead th {\n",
       "        text-align: right;\n",
       "    }\n",
       "</style>\n",
       "<table border=\"1\" class=\"dataframe\">\n",
       "  <thead>\n",
       "    <tr style=\"text-align: right;\">\n",
       "      <th></th>\n",
       "      <th>Timestamp</th>\n",
       "      <th>FIT101</th>\n",
       "      <th>LIT101</th>\n",
       "      <th>MV101</th>\n",
       "      <th>P101</th>\n",
       "      <th>P102</th>\n",
       "      <th>AIT201</th>\n",
       "      <th>AIT202</th>\n",
       "      <th>AIT203</th>\n",
       "      <th>FIT201</th>\n",
       "      <th>...</th>\n",
       "      <th>P501</th>\n",
       "      <th>P502</th>\n",
       "      <th>PIT501</th>\n",
       "      <th>PIT502</th>\n",
       "      <th>PIT503</th>\n",
       "      <th>FIT601</th>\n",
       "      <th>P601</th>\n",
       "      <th>P602</th>\n",
       "      <th>P603</th>\n",
       "      <th>Normal/Attack</th>\n",
       "    </tr>\n",
       "  </thead>\n",
       "  <tbody>\n",
       "    <tr>\n",
       "      <th>0</th>\n",
       "      <td>28/12/2015 10:00:00 AM</td>\n",
       "      <td>2.427057</td>\n",
       "      <td>522.8467</td>\n",
       "      <td>2</td>\n",
       "      <td>2</td>\n",
       "      <td>1</td>\n",
       "      <td>262.0161</td>\n",
       "      <td>8.396437</td>\n",
       "      <td>328.6337</td>\n",
       "      <td>2.445391</td>\n",
       "      <td>...</td>\n",
       "      <td>2</td>\n",
       "      <td>1</td>\n",
       "      <td>250.8652</td>\n",
       "      <td>1.649953</td>\n",
       "      <td>189.5988</td>\n",
       "      <td>0.000128</td>\n",
       "      <td>1</td>\n",
       "      <td>1</td>\n",
       "      <td>1</td>\n",
       "      <td>Normal</td>\n",
       "    </tr>\n",
       "    <tr>\n",
       "      <th>1</th>\n",
       "      <td>28/12/2015 10:00:01 AM</td>\n",
       "      <td>2.446274</td>\n",
       "      <td>522.8860</td>\n",
       "      <td>2</td>\n",
       "      <td>2</td>\n",
       "      <td>1</td>\n",
       "      <td>262.0161</td>\n",
       "      <td>8.396437</td>\n",
       "      <td>328.6337</td>\n",
       "      <td>2.445391</td>\n",
       "      <td>...</td>\n",
       "      <td>2</td>\n",
       "      <td>1</td>\n",
       "      <td>250.8652</td>\n",
       "      <td>1.649953</td>\n",
       "      <td>189.6789</td>\n",
       "      <td>0.000128</td>\n",
       "      <td>1</td>\n",
       "      <td>1</td>\n",
       "      <td>1</td>\n",
       "      <td>Normal</td>\n",
       "    </tr>\n",
       "    <tr>\n",
       "      <th>2</th>\n",
       "      <td>28/12/2015 10:00:02 AM</td>\n",
       "      <td>2.489191</td>\n",
       "      <td>522.8467</td>\n",
       "      <td>2</td>\n",
       "      <td>2</td>\n",
       "      <td>1</td>\n",
       "      <td>262.0161</td>\n",
       "      <td>8.394514</td>\n",
       "      <td>328.6337</td>\n",
       "      <td>2.442316</td>\n",
       "      <td>...</td>\n",
       "      <td>2</td>\n",
       "      <td>1</td>\n",
       "      <td>250.8812</td>\n",
       "      <td>1.649953</td>\n",
       "      <td>189.6789</td>\n",
       "      <td>0.000128</td>\n",
       "      <td>1</td>\n",
       "      <td>1</td>\n",
       "      <td>1</td>\n",
       "      <td>Normal</td>\n",
       "    </tr>\n",
       "    <tr>\n",
       "      <th>3</th>\n",
       "      <td>28/12/2015 10:00:03 AM</td>\n",
       "      <td>2.534350</td>\n",
       "      <td>522.9645</td>\n",
       "      <td>2</td>\n",
       "      <td>2</td>\n",
       "      <td>1</td>\n",
       "      <td>262.0161</td>\n",
       "      <td>8.394514</td>\n",
       "      <td>328.6337</td>\n",
       "      <td>2.442316</td>\n",
       "      <td>...</td>\n",
       "      <td>2</td>\n",
       "      <td>1</td>\n",
       "      <td>250.8812</td>\n",
       "      <td>1.649953</td>\n",
       "      <td>189.6148</td>\n",
       "      <td>0.000128</td>\n",
       "      <td>1</td>\n",
       "      <td>1</td>\n",
       "      <td>1</td>\n",
       "      <td>Normal</td>\n",
       "    </tr>\n",
       "    <tr>\n",
       "      <th>4</th>\n",
       "      <td>28/12/2015 10:00:04 AM</td>\n",
       "      <td>2.569260</td>\n",
       "      <td>523.4748</td>\n",
       "      <td>2</td>\n",
       "      <td>2</td>\n",
       "      <td>1</td>\n",
       "      <td>262.0161</td>\n",
       "      <td>8.394514</td>\n",
       "      <td>328.6337</td>\n",
       "      <td>2.443085</td>\n",
       "      <td>...</td>\n",
       "      <td>2</td>\n",
       "      <td>1</td>\n",
       "      <td>250.8812</td>\n",
       "      <td>1.649953</td>\n",
       "      <td>189.5027</td>\n",
       "      <td>0.000128</td>\n",
       "      <td>1</td>\n",
       "      <td>1</td>\n",
       "      <td>1</td>\n",
       "      <td>Normal</td>\n",
       "    </tr>\n",
       "  </tbody>\n",
       "</table>\n",
       "<p>5 rows × 53 columns</p>\n",
       "</div>"
      ],
      "text/plain": [
       "                 Timestamp    FIT101    LIT101   MV101  P101  P102    AIT201  \\\n",
       "0   28/12/2015 10:00:00 AM  2.427057  522.8467       2     2     1  262.0161   \n",
       "1   28/12/2015 10:00:01 AM  2.446274  522.8860       2     2     1  262.0161   \n",
       "2   28/12/2015 10:00:02 AM  2.489191  522.8467       2     2     1  262.0161   \n",
       "3   28/12/2015 10:00:03 AM  2.534350  522.9645       2     2     1  262.0161   \n",
       "4   28/12/2015 10:00:04 AM  2.569260  523.4748       2     2     1  262.0161   \n",
       "\n",
       "     AIT202    AIT203    FIT201  ...  P501  P502    PIT501    PIT502  \\\n",
       "0  8.396437  328.6337  2.445391  ...     2     1  250.8652  1.649953   \n",
       "1  8.396437  328.6337  2.445391  ...     2     1  250.8652  1.649953   \n",
       "2  8.394514  328.6337  2.442316  ...     2     1  250.8812  1.649953   \n",
       "3  8.394514  328.6337  2.442316  ...     2     1  250.8812  1.649953   \n",
       "4  8.394514  328.6337  2.443085  ...     2     1  250.8812  1.649953   \n",
       "\n",
       "     PIT503    FIT601  P601  P602  P603  Normal/Attack  \n",
       "0  189.5988  0.000128     1     1     1         Normal  \n",
       "1  189.6789  0.000128     1     1     1         Normal  \n",
       "2  189.6789  0.000128     1     1     1         Normal  \n",
       "3  189.6148  0.000128     1     1     1         Normal  \n",
       "4  189.5027  0.000128     1     1     1         Normal  \n",
       "\n",
       "[5 rows x 53 columns]"
      ]
     },
     "execution_count": 3,
     "metadata": {},
     "output_type": "execute_result"
    }
   ],
   "source": [
    "data.head()"
   ]
  },
  {
   "cell_type": "code",
   "execution_count": 4,
   "id": "reliable-batman",
   "metadata": {},
   "outputs": [
    {
     "data": {
      "text/plain": [
       "Index([' Timestamp', 'FIT101', 'LIT101', ' MV101', 'P101', 'P102', ' AIT201',\n",
       "       'AIT202', 'AIT203', 'FIT201', ' MV201', ' P201', ' P202', 'P203',\n",
       "       ' P204', 'P205', 'P206', 'DPIT301', 'FIT301', 'LIT301', 'MV301',\n",
       "       'MV302', ' MV303', 'MV304', 'P301', 'P302', 'AIT401', 'AIT402',\n",
       "       'FIT401', 'LIT401', 'P401', 'P402', 'P403', 'P404', 'UV401', 'AIT501',\n",
       "       'AIT502', 'AIT503', 'AIT504', 'FIT501', 'FIT502', 'FIT503', 'FIT504',\n",
       "       'P501', 'P502', 'PIT501', 'PIT502', 'PIT503', 'FIT601', 'P601', 'P602',\n",
       "       'P603', 'Normal/Attack'],\n",
       "      dtype='object')"
      ]
     },
     "execution_count": 4,
     "metadata": {},
     "output_type": "execute_result"
    }
   ],
   "source": [
    "data.columns"
   ]
  },
  {
   "cell_type": "code",
   "execution_count": 5,
   "id": "southwest-chick",
   "metadata": {},
   "outputs": [
    {
     "data": {
      "text/plain": [
       " Timestamp        object\n",
       "FIT101           float64\n",
       "LIT101           float64\n",
       " MV101             int64\n",
       "P101               int64\n",
       "P102               int64\n",
       " AIT201          float64\n",
       "AIT202           float64\n",
       "AIT203           float64\n",
       "FIT201           float64\n",
       " MV201             int64\n",
       " P201              int64\n",
       " P202              int64\n",
       "P203               int64\n",
       " P204              int64\n",
       "P205               int64\n",
       "P206               int64\n",
       "DPIT301          float64\n",
       "FIT301           float64\n",
       "LIT301           float64\n",
       "MV301              int64\n",
       "MV302              int64\n",
       " MV303             int64\n",
       "MV304              int64\n",
       "P301               int64\n",
       "P302               int64\n",
       "AIT401           float64\n",
       "AIT402           float64\n",
       "FIT401           float64\n",
       "LIT401           float64\n",
       "P401               int64\n",
       "P402               int64\n",
       "P403               int64\n",
       "P404               int64\n",
       "UV401              int64\n",
       "AIT501           float64\n",
       "AIT502           float64\n",
       "AIT503           float64\n",
       "AIT504           float64\n",
       "FIT501           float64\n",
       "FIT502           float64\n",
       "FIT503           float64\n",
       "FIT504           float64\n",
       "P501               int64\n",
       "P502               int64\n",
       "PIT501           float64\n",
       "PIT502           float64\n",
       "PIT503           float64\n",
       "FIT601           float64\n",
       "P601               int64\n",
       "P602               int64\n",
       "P603               int64\n",
       "Normal/Attack     object\n",
       "dtype: object"
      ]
     },
     "execution_count": 5,
     "metadata": {},
     "output_type": "execute_result"
    }
   ],
   "source": [
    "data.dtypes"
   ]
  },
  {
   "cell_type": "code",
   "execution_count": 6,
   "id": "favorite-norman",
   "metadata": {},
   "outputs": [
    {
     "data": {
      "text/plain": [
       "(449919, 53)"
      ]
     },
     "execution_count": 6,
     "metadata": {},
     "output_type": "execute_result"
    }
   ],
   "source": [
    "data.shape"
   ]
  },
  {
   "cell_type": "code",
   "execution_count": 7,
   "id": "electoral-ordinary",
   "metadata": {},
   "outputs": [
    {
     "data": {
      "text/plain": [
       "0"
      ]
     },
     "execution_count": 7,
     "metadata": {},
     "output_type": "execute_result"
    }
   ],
   "source": [
    "data.shape[0] - data.dropna().shape[0]"
   ]
  },
  {
   "cell_type": "markdown",
   "id": "funky-ancient",
   "metadata": {},
   "source": [
    "### Preprocess the dataset"
   ]
  },
  {
   "cell_type": "code",
   "execution_count": 8,
   "id": "union-second",
   "metadata": {},
   "outputs": [],
   "source": [
    "data = data.dropna()"
   ]
  },
  {
   "cell_type": "markdown",
   "id": "pleased-cooling",
   "metadata": {},
   "source": [
    "##### drop the timestamp column as it is not required"
   ]
  },
  {
   "cell_type": "code",
   "execution_count": 9,
   "id": "imposed-cholesterol",
   "metadata": {},
   "outputs": [],
   "source": [
    "data = data.drop(' Timestamp',axis=1)"
   ]
  },
  {
   "cell_type": "markdown",
   "id": "bearing-oxford",
   "metadata": {},
   "source": [
    "##### convert output labels from string to integer format"
   ]
  },
  {
   "cell_type": "code",
   "execution_count": 10,
   "id": "facial-tulsa",
   "metadata": {},
   "outputs": [],
   "source": [
    "status = {'Normal':0,'Attack':1}\n",
    "data['Normal/Attack'] = [status[item] for item in data['Normal/Attack']] "
   ]
  },
  {
   "cell_type": "code",
   "execution_count": 11,
   "id": "laughing-bubble",
   "metadata": {},
   "outputs": [
    {
     "data": {
      "text/html": [
       "<div>\n",
       "<style scoped>\n",
       "    .dataframe tbody tr th:only-of-type {\n",
       "        vertical-align: middle;\n",
       "    }\n",
       "\n",
       "    .dataframe tbody tr th {\n",
       "        vertical-align: top;\n",
       "    }\n",
       "\n",
       "    .dataframe thead th {\n",
       "        text-align: right;\n",
       "    }\n",
       "</style>\n",
       "<table border=\"1\" class=\"dataframe\">\n",
       "  <thead>\n",
       "    <tr style=\"text-align: right;\">\n",
       "      <th></th>\n",
       "      <th>FIT101</th>\n",
       "      <th>LIT101</th>\n",
       "      <th>MV101</th>\n",
       "      <th>P101</th>\n",
       "      <th>P102</th>\n",
       "      <th>AIT201</th>\n",
       "      <th>AIT202</th>\n",
       "      <th>AIT203</th>\n",
       "      <th>FIT201</th>\n",
       "      <th>MV201</th>\n",
       "      <th>...</th>\n",
       "      <th>P501</th>\n",
       "      <th>P502</th>\n",
       "      <th>PIT501</th>\n",
       "      <th>PIT502</th>\n",
       "      <th>PIT503</th>\n",
       "      <th>FIT601</th>\n",
       "      <th>P601</th>\n",
       "      <th>P602</th>\n",
       "      <th>P603</th>\n",
       "      <th>Normal/Attack</th>\n",
       "    </tr>\n",
       "  </thead>\n",
       "  <tbody>\n",
       "    <tr>\n",
       "      <th>0</th>\n",
       "      <td>2.427057</td>\n",
       "      <td>522.8467</td>\n",
       "      <td>2</td>\n",
       "      <td>2</td>\n",
       "      <td>1</td>\n",
       "      <td>262.0161</td>\n",
       "      <td>8.396437</td>\n",
       "      <td>328.6337</td>\n",
       "      <td>2.445391</td>\n",
       "      <td>2</td>\n",
       "      <td>...</td>\n",
       "      <td>2</td>\n",
       "      <td>1</td>\n",
       "      <td>250.8652</td>\n",
       "      <td>1.649953</td>\n",
       "      <td>189.5988</td>\n",
       "      <td>0.000128</td>\n",
       "      <td>1</td>\n",
       "      <td>1</td>\n",
       "      <td>1</td>\n",
       "      <td>0</td>\n",
       "    </tr>\n",
       "    <tr>\n",
       "      <th>1</th>\n",
       "      <td>2.446274</td>\n",
       "      <td>522.8860</td>\n",
       "      <td>2</td>\n",
       "      <td>2</td>\n",
       "      <td>1</td>\n",
       "      <td>262.0161</td>\n",
       "      <td>8.396437</td>\n",
       "      <td>328.6337</td>\n",
       "      <td>2.445391</td>\n",
       "      <td>2</td>\n",
       "      <td>...</td>\n",
       "      <td>2</td>\n",
       "      <td>1</td>\n",
       "      <td>250.8652</td>\n",
       "      <td>1.649953</td>\n",
       "      <td>189.6789</td>\n",
       "      <td>0.000128</td>\n",
       "      <td>1</td>\n",
       "      <td>1</td>\n",
       "      <td>1</td>\n",
       "      <td>0</td>\n",
       "    </tr>\n",
       "    <tr>\n",
       "      <th>2</th>\n",
       "      <td>2.489191</td>\n",
       "      <td>522.8467</td>\n",
       "      <td>2</td>\n",
       "      <td>2</td>\n",
       "      <td>1</td>\n",
       "      <td>262.0161</td>\n",
       "      <td>8.394514</td>\n",
       "      <td>328.6337</td>\n",
       "      <td>2.442316</td>\n",
       "      <td>2</td>\n",
       "      <td>...</td>\n",
       "      <td>2</td>\n",
       "      <td>1</td>\n",
       "      <td>250.8812</td>\n",
       "      <td>1.649953</td>\n",
       "      <td>189.6789</td>\n",
       "      <td>0.000128</td>\n",
       "      <td>1</td>\n",
       "      <td>1</td>\n",
       "      <td>1</td>\n",
       "      <td>0</td>\n",
       "    </tr>\n",
       "    <tr>\n",
       "      <th>3</th>\n",
       "      <td>2.534350</td>\n",
       "      <td>522.9645</td>\n",
       "      <td>2</td>\n",
       "      <td>2</td>\n",
       "      <td>1</td>\n",
       "      <td>262.0161</td>\n",
       "      <td>8.394514</td>\n",
       "      <td>328.6337</td>\n",
       "      <td>2.442316</td>\n",
       "      <td>2</td>\n",
       "      <td>...</td>\n",
       "      <td>2</td>\n",
       "      <td>1</td>\n",
       "      <td>250.8812</td>\n",
       "      <td>1.649953</td>\n",
       "      <td>189.6148</td>\n",
       "      <td>0.000128</td>\n",
       "      <td>1</td>\n",
       "      <td>1</td>\n",
       "      <td>1</td>\n",
       "      <td>0</td>\n",
       "    </tr>\n",
       "    <tr>\n",
       "      <th>4</th>\n",
       "      <td>2.569260</td>\n",
       "      <td>523.4748</td>\n",
       "      <td>2</td>\n",
       "      <td>2</td>\n",
       "      <td>1</td>\n",
       "      <td>262.0161</td>\n",
       "      <td>8.394514</td>\n",
       "      <td>328.6337</td>\n",
       "      <td>2.443085</td>\n",
       "      <td>2</td>\n",
       "      <td>...</td>\n",
       "      <td>2</td>\n",
       "      <td>1</td>\n",
       "      <td>250.8812</td>\n",
       "      <td>1.649953</td>\n",
       "      <td>189.5027</td>\n",
       "      <td>0.000128</td>\n",
       "      <td>1</td>\n",
       "      <td>1</td>\n",
       "      <td>1</td>\n",
       "      <td>0</td>\n",
       "    </tr>\n",
       "  </tbody>\n",
       "</table>\n",
       "<p>5 rows × 52 columns</p>\n",
       "</div>"
      ],
      "text/plain": [
       "     FIT101    LIT101   MV101  P101  P102    AIT201    AIT202    AIT203  \\\n",
       "0  2.427057  522.8467       2     2     1  262.0161  8.396437  328.6337   \n",
       "1  2.446274  522.8860       2     2     1  262.0161  8.396437  328.6337   \n",
       "2  2.489191  522.8467       2     2     1  262.0161  8.394514  328.6337   \n",
       "3  2.534350  522.9645       2     2     1  262.0161  8.394514  328.6337   \n",
       "4  2.569260  523.4748       2     2     1  262.0161  8.394514  328.6337   \n",
       "\n",
       "     FIT201   MV201  ...  P501  P502    PIT501    PIT502    PIT503    FIT601  \\\n",
       "0  2.445391       2  ...     2     1  250.8652  1.649953  189.5988  0.000128   \n",
       "1  2.445391       2  ...     2     1  250.8652  1.649953  189.6789  0.000128   \n",
       "2  2.442316       2  ...     2     1  250.8812  1.649953  189.6789  0.000128   \n",
       "3  2.442316       2  ...     2     1  250.8812  1.649953  189.6148  0.000128   \n",
       "4  2.443085       2  ...     2     1  250.8812  1.649953  189.5027  0.000128   \n",
       "\n",
       "   P601  P602  P603  Normal/Attack  \n",
       "0     1     1     1              0  \n",
       "1     1     1     1              0  \n",
       "2     1     1     1              0  \n",
       "3     1     1     1              0  \n",
       "4     1     1     1              0  \n",
       "\n",
       "[5 rows x 52 columns]"
      ]
     },
     "execution_count": 11,
     "metadata": {},
     "output_type": "execute_result"
    }
   ],
   "source": [
    "data.head()"
   ]
  },
  {
   "cell_type": "markdown",
   "id": "convenient-pathology",
   "metadata": {},
   "source": [
    "##### shuffle the dataset so that the 2 classes are uniformly distributed"
   ]
  },
  {
   "cell_type": "code",
   "execution_count": 12,
   "id": "sticky-winner",
   "metadata": {},
   "outputs": [],
   "source": [
    "data = data.sample(frac = 1) "
   ]
  },
  {
   "cell_type": "code",
   "execution_count": 13,
   "id": "regulation-brake",
   "metadata": {},
   "outputs": [
    {
     "data": {
      "text/html": [
       "<div>\n",
       "<style scoped>\n",
       "    .dataframe tbody tr th:only-of-type {\n",
       "        vertical-align: middle;\n",
       "    }\n",
       "\n",
       "    .dataframe tbody tr th {\n",
       "        vertical-align: top;\n",
       "    }\n",
       "\n",
       "    .dataframe thead th {\n",
       "        text-align: right;\n",
       "    }\n",
       "</style>\n",
       "<table border=\"1\" class=\"dataframe\">\n",
       "  <thead>\n",
       "    <tr style=\"text-align: right;\">\n",
       "      <th></th>\n",
       "      <th>FIT101</th>\n",
       "      <th>LIT101</th>\n",
       "      <th>MV101</th>\n",
       "      <th>P101</th>\n",
       "      <th>P102</th>\n",
       "      <th>AIT201</th>\n",
       "      <th>AIT202</th>\n",
       "      <th>AIT203</th>\n",
       "      <th>FIT201</th>\n",
       "      <th>MV201</th>\n",
       "      <th>...</th>\n",
       "      <th>P501</th>\n",
       "      <th>P502</th>\n",
       "      <th>PIT501</th>\n",
       "      <th>PIT502</th>\n",
       "      <th>PIT503</th>\n",
       "      <th>FIT601</th>\n",
       "      <th>P601</th>\n",
       "      <th>P602</th>\n",
       "      <th>P603</th>\n",
       "      <th>Normal/Attack</th>\n",
       "    </tr>\n",
       "  </thead>\n",
       "  <tbody>\n",
       "    <tr>\n",
       "      <th>58086</th>\n",
       "      <td>2.429619</td>\n",
       "      <td>542.0021</td>\n",
       "      <td>2</td>\n",
       "      <td>1</td>\n",
       "      <td>1</td>\n",
       "      <td>257.9146</td>\n",
       "      <td>8.425596</td>\n",
       "      <td>323.4812</td>\n",
       "      <td>0.000000</td>\n",
       "      <td>1</td>\n",
       "      <td>...</td>\n",
       "      <td>2</td>\n",
       "      <td>1</td>\n",
       "      <td>248.81440</td>\n",
       "      <td>0.977157</td>\n",
       "      <td>187.676200</td>\n",
       "      <td>0.000000</td>\n",
       "      <td>1</td>\n",
       "      <td>1</td>\n",
       "      <td>1</td>\n",
       "      <td>0</td>\n",
       "    </tr>\n",
       "    <tr>\n",
       "      <th>306613</th>\n",
       "      <td>2.433142</td>\n",
       "      <td>501.4932</td>\n",
       "      <td>2</td>\n",
       "      <td>2</td>\n",
       "      <td>1</td>\n",
       "      <td>177.2302</td>\n",
       "      <td>8.560818</td>\n",
       "      <td>316.1241</td>\n",
       "      <td>2.447954</td>\n",
       "      <td>2</td>\n",
       "      <td>...</td>\n",
       "      <td>2</td>\n",
       "      <td>1</td>\n",
       "      <td>252.54740</td>\n",
       "      <td>0.816967</td>\n",
       "      <td>190.255700</td>\n",
       "      <td>1.736712</td>\n",
       "      <td>1</td>\n",
       "      <td>2</td>\n",
       "      <td>1</td>\n",
       "      <td>0</td>\n",
       "    </tr>\n",
       "    <tr>\n",
       "      <th>174493</th>\n",
       "      <td>0.000000</td>\n",
       "      <td>585.3372</td>\n",
       "      <td>1</td>\n",
       "      <td>2</td>\n",
       "      <td>1</td>\n",
       "      <td>219.9756</td>\n",
       "      <td>8.503461</td>\n",
       "      <td>326.5573</td>\n",
       "      <td>2.458719</td>\n",
       "      <td>2</td>\n",
       "      <td>...</td>\n",
       "      <td>2</td>\n",
       "      <td>1</td>\n",
       "      <td>250.32040</td>\n",
       "      <td>1.457726</td>\n",
       "      <td>188.781700</td>\n",
       "      <td>0.000128</td>\n",
       "      <td>1</td>\n",
       "      <td>1</td>\n",
       "      <td>1</td>\n",
       "      <td>0</td>\n",
       "    </tr>\n",
       "    <tr>\n",
       "      <th>245835</th>\n",
       "      <td>0.000000</td>\n",
       "      <td>813.4349</td>\n",
       "      <td>1</td>\n",
       "      <td>1</td>\n",
       "      <td>1</td>\n",
       "      <td>192.8672</td>\n",
       "      <td>8.590618</td>\n",
       "      <td>350.4486</td>\n",
       "      <td>0.000000</td>\n",
       "      <td>1</td>\n",
       "      <td>...</td>\n",
       "      <td>1</td>\n",
       "      <td>1</td>\n",
       "      <td>10.06152</td>\n",
       "      <td>0.000000</td>\n",
       "      <td>3.733017</td>\n",
       "      <td>0.000000</td>\n",
       "      <td>1</td>\n",
       "      <td>1</td>\n",
       "      <td>1</td>\n",
       "      <td>1</td>\n",
       "    </tr>\n",
       "    <tr>\n",
       "      <th>33775</th>\n",
       "      <td>2.581110</td>\n",
       "      <td>527.0861</td>\n",
       "      <td>2</td>\n",
       "      <td>2</td>\n",
       "      <td>1</td>\n",
       "      <td>259.6129</td>\n",
       "      <td>8.367598</td>\n",
       "      <td>331.1202</td>\n",
       "      <td>2.439881</td>\n",
       "      <td>2</td>\n",
       "      <td>...</td>\n",
       "      <td>2</td>\n",
       "      <td>1</td>\n",
       "      <td>247.59680</td>\n",
       "      <td>1.457726</td>\n",
       "      <td>186.715000</td>\n",
       "      <td>0.000128</td>\n",
       "      <td>1</td>\n",
       "      <td>1</td>\n",
       "      <td>1</td>\n",
       "      <td>0</td>\n",
       "    </tr>\n",
       "  </tbody>\n",
       "</table>\n",
       "<p>5 rows × 52 columns</p>\n",
       "</div>"
      ],
      "text/plain": [
       "          FIT101    LIT101   MV101  P101  P102    AIT201    AIT202    AIT203  \\\n",
       "58086   2.429619  542.0021       2     1     1  257.9146  8.425596  323.4812   \n",
       "306613  2.433142  501.4932       2     2     1  177.2302  8.560818  316.1241   \n",
       "174493  0.000000  585.3372       1     2     1  219.9756  8.503461  326.5573   \n",
       "245835  0.000000  813.4349       1     1     1  192.8672  8.590618  350.4486   \n",
       "33775   2.581110  527.0861       2     2     1  259.6129  8.367598  331.1202   \n",
       "\n",
       "          FIT201   MV201  ...  P501  P502     PIT501    PIT502      PIT503  \\\n",
       "58086   0.000000       1  ...     2     1  248.81440  0.977157  187.676200   \n",
       "306613  2.447954       2  ...     2     1  252.54740  0.816967  190.255700   \n",
       "174493  2.458719       2  ...     2     1  250.32040  1.457726  188.781700   \n",
       "245835  0.000000       1  ...     1     1   10.06152  0.000000    3.733017   \n",
       "33775   2.439881       2  ...     2     1  247.59680  1.457726  186.715000   \n",
       "\n",
       "          FIT601  P601  P602  P603  Normal/Attack  \n",
       "58086   0.000000     1     1     1              0  \n",
       "306613  1.736712     1     2     1              0  \n",
       "174493  0.000128     1     1     1              0  \n",
       "245835  0.000000     1     1     1              1  \n",
       "33775   0.000128     1     1     1              0  \n",
       "\n",
       "[5 rows x 52 columns]"
      ]
     },
     "execution_count": 13,
     "metadata": {},
     "output_type": "execute_result"
    }
   ],
   "source": [
    "data.head()"
   ]
  },
  {
   "cell_type": "markdown",
   "id": "disabled-accreditation",
   "metadata": {},
   "source": [
    "### Split the dataset into input and output"
   ]
  },
  {
   "cell_type": "code",
   "execution_count": 14,
   "id": "rolled-robertson",
   "metadata": {},
   "outputs": [],
   "source": [
    "data = data[:100000]\n",
    "x = data.drop('Normal/Attack',axis=1)\n",
    "y = data['Normal/Attack']"
   ]
  },
  {
   "cell_type": "code",
   "execution_count": 15,
   "id": "exceptional-soviet",
   "metadata": {},
   "outputs": [
    {
     "data": {
      "text/plain": [
       "(100000, 51)"
      ]
     },
     "execution_count": 15,
     "metadata": {},
     "output_type": "execute_result"
    }
   ],
   "source": [
    "x.shape"
   ]
  },
  {
   "cell_type": "code",
   "execution_count": 16,
   "id": "broadband-italy",
   "metadata": {},
   "outputs": [],
   "source": [
    "unique,frequency = np.unique(np.array(y), return_counts = True) "
   ]
  },
  {
   "cell_type": "code",
   "execution_count": 17,
   "id": "graduate-worse",
   "metadata": {},
   "outputs": [
    {
     "data": {
      "text/plain": [
       "([<matplotlib.patches.Wedge at 0xfc9c58>,\n",
       "  <matplotlib.patches.Wedge at 0xfc9ec8>],\n",
       " [Text(-1.022843123280454, 0.4047121756976012, 'Normal'),\n",
       "  Text(1.022843085388561, -0.4047122714630841, 'Attack')])"
      ]
     },
     "execution_count": 17,
     "metadata": {},
     "output_type": "execute_result"
    },
    {
     "data": {
      "image/png": "[encoded data removed]",
      "text/plain": [
       "<Figure size 432x288 with 1 Axes>"
      ]
     },
     "metadata": {},
     "output_type": "display_data"
    }
   ],
   "source": [
    "plt.pie(frequency,labels = ['Normal','Attack']) "
   ]
  },
  {
   "cell_type": "markdown",
   "id": "acoustic-costa",
   "metadata": {},
   "source": [
    "### Import the SVM classifier from sklearn"
   ]
  },
  {
   "cell_type": "code",
   "execution_count": 18,
   "id": "charged-sleeve",
   "metadata": {},
   "outputs": [],
   "source": [
    "from sklearn.svm import SVC\n",
    "from sklearn.preprocessing import scale\n",
    "from sklearn.model_selection import train_test_split\n",
    "from sklearn.metrics import classification_report"
   ]
  },
  {
   "cell_type": "markdown",
   "id": "supposed-seminar",
   "metadata": {},
   "source": [
    "### Split the dataset into train and test data, Train the model"
   ]
  },
  {
   "cell_type": "code",
   "execution_count": 19,
   "id": "south-hospital",
   "metadata": {},
   "outputs": [],
   "source": [
    "x = scale(x)\n",
    "x_train,x_test,y_train,y_test = train_test_split(x,y)"
   ]
  },
  {
   "cell_type": "code",
   "execution_count": 20,
   "id": "painful-ribbon",
   "metadata": {},
   "outputs": [
    {
     "data": {
      "text/plain": [
       "SVC(C=100, gamma=0.01)"
      ]
     },
     "execution_count": 20,
     "metadata": {},
     "output_type": "execute_result"
    }
   ],
   "source": [
    "clf = SVC(kernel='rbf', gamma=0.01, C=100)\n",
    "clf.fit(x_train, y_train)"
   ]
  },
  {
   "cell_type": "markdown",
   "id": "uniform-questionnaire",
   "metadata": {},
   "source": [
    "### Evaluate the performance of the trained model "
   ]
  },
  {
   "cell_type": "code",
   "execution_count": 21,
   "id": "tropical-paradise",
   "metadata": {},
   "outputs": [
    {
     "data": {
      "text/plain": [
       "0.98668"
      ]
     },
     "execution_count": 21,
     "metadata": {},
     "output_type": "execute_result"
    }
   ],
   "source": [
    "clf.score(x_test,y_test)"
   ]
  },
  {
   "cell_type": "code",
   "execution_count": 22,
   "id": "relative-porcelain",
   "metadata": {},
   "outputs": [
    {
     "name": "stdout",
     "output_type": "stream",
     "text": [
      "              precision    recall  f1-score   support\n",
      "\n",
      "           0       0.99      1.00      0.99     21947\n",
      "           1       0.99      0.90      0.94      3053\n",
      "\n",
      "    accuracy                           0.99     25000\n",
      "   macro avg       0.99      0.95      0.97     25000\n",
      "weighted avg       0.99      0.99      0.99     25000\n",
      "\n"
     ]
    }
   ],
   "source": [
    "prediction = clf.predict(x_test)\n",
    "print(classification_report(y_test, prediction))"
   ]
  },
  {
   "cell_type": "markdown",
   "id": "thousand-experience",
   "metadata": {},
   "source": [
    "##### print the confusion matrix and heatmap"
   ]
  },
  {
   "cell_type": "code",
   "execution_count": 23,
   "id": "spectacular-stuart",
   "metadata": {},
   "outputs": [],
   "source": [
    "import seaborn as sns"
   ]
  },
  {
   "cell_type": "code",
   "execution_count": 24,
   "id": "fresh-motorcycle",
   "metadata": {},
   "outputs": [
    {
     "name": "stdout",
     "output_type": "stream",
     "text": [
      "[[21926    21]\n",
      " [  312  2741]]\n"
     ]
    }
   ],
   "source": [
    "from sklearn import metrics\n",
    "\n",
    "cm = metrics.confusion_matrix(y_test, prediction)\n",
    "print(cm)"
   ]
  },
  {
   "cell_type": "code",
   "execution_count": 25,
   "id": "retained-worth",
   "metadata": {},
   "outputs": [
    {
     "data": {
      "image/png": "[encoded data removed]",
      "text/plain": [
       "<Figure size 648x648 with 2 Axes>"
      ]
     },
     "metadata": {
      "needs_background": "light"
     },
     "output_type": "display_data"
    }
   ],
   "source": [
    "plt.figure(figsize=(9,9))\n",
    "sns.heatmap(cm, annot=True, fmt=\".3f\", linewidths=.5, square = True, cmap = 'Blues_r');\n",
    "plt.ylabel('Actual label');\n",
    "plt.xlabel('Predicted label');\n",
    "score = clf.score(x_test,y_test)\n",
    "\n",
    "title = 'Accuracy Score: {0}'.format(score)\n",
    "plt.title(title, size = 15);"
   ]
  },
  {
   "cell_type": "code",
   "execution_count": null,
   "id": "alert-suffering",
   "metadata": {},
   "outputs": [],
   "source": []
  }
 ],
 "metadata": {
  "kernelspec": {
   "display_name": "Python 3",
   "language": "python",
   "name": "python3"
  },
  "language_info": {
   "codemirror_mode": {
    "name": "ipython",
    "version": 3
   },
   "file_extension": ".py",
   "mimetype": "text/x-python",
   "name": "python",
   "nbconvert_exporter": "python",
   "pygments_lexer": "ipython3",
   "version": "3.8.5"
  }
 },
 "nbformat": 4,
 "nbformat_minor": 5
}
